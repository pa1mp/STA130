{
 "cells": [
  {
   "cell_type": "markdown",
   "id": "228484eb",
   "metadata": {},
   "source": [
    "# Week 02 \"Pre-lecture\" HW"
   ]
  },
  {
   "cell_type": "markdown",
   "id": "0cc77f06",
   "metadata": {},
   "source": [
    "## 2. Describe any preferences you have in terms of readibility or explainability between the original code and the code improvements suggested by the ChatBot\n",
    "I would definitely go with the improved version of the code suggested by Chat. It’s way clearer and easier to follow. The variable names actually make sense (initial_choice, winning_door, etc.), so you know what is happening at each step. Even though Chat gave me something I have not learned, like 'the list comprehensions,' they are simple, easy to understand and cut out all that messy removing and appending from the original. Plus, no weird try-except blocks. It is just straightforward logic. Personally, I think it is clean and efficient, and makes the whole Monte Hall problem easier to picture in my mind.\n"
   ]
  },
  {
   "cell_type": "markdown",
   "id": "8c928483",
   "metadata": {},
   "source": [
    "## 3. Submit your preferred version of the Monty Hall problem that is verified to be running and working with a final printed output of the code; then, add code comments explaining the purpose of each line of the code"
   ]
  },
  {
   "cell_type": "code",
   "execution_count": 1,
   "id": "9040fd9b",
   "metadata": {},
   "outputs": [
    {
     "data": {
      "text/plain": [
       "0.66637"
      ]
     },
     "execution_count": 1,
     "metadata": {},
     "output_type": "execute_result"
    }
   ],
   "source": [
    "# Monty Hall problem simulation to estimate probability of winning by switching doors\n",
    "\n",
    "# Importing the NumPy library, which provides tools for random number generation and efficient array handling\n",
    "import numpy as np \n",
    "\n",
    "all_door_options = [1, 2, 3]  # List of door options\n",
    "initial_choice = 1  # Always start by choosing door 1\n",
    "wins_with_switch = 0  # Counter for wins when switching\n",
    "reps = 100000  # Number of simulations to perform\n",
    "\n",
    "# Run simulation for the specified number of repetitions\n",
    "for i in range(reps):\n",
    "    # Randomly select the door that has the prize behind it\n",
    "    winning_door = np.random.choice(all_door_options)\n",
    "    \n",
    "    # Host reveals a goat door (a door that is not the winning door or the player's initial choice)\n",
    "    possible_reveal_doors = [door for door in all_door_options if door != winning_door and door != initial_choice]\n",
    "    revealed_door = np.random.choice(possible_reveal_doors)\n",
    "    \n",
    "    # After revealing, the player switches to the other unopened door\n",
    "    remaining_door = [door for door in all_door_options if door != initial_choice and door != revealed_door][0]\n",
    "    \n",
    "    # Check if switching results in choosing the winning door\n",
    "    if remaining_door == winning_door:\n",
    "        wins_with_switch += 1\n",
    "\n",
    "# Calculate the probability of winning when switching doors\n",
    "win_rate_with_switch = wins_with_switch / reps\n",
    "\n",
    "# Print the final result\n",
    "win_rate_with_switch\n"
   ]
  },
  {
   "cell_type": "markdown",
   "id": "a0d41daa",
   "metadata": {},
   "source": [
    "## Summaries of my ChatBot session (Q#1-3) (01)\n",
    "1. Original Monty Hall Simulation Code Breakdown\n",
    "You shared a Python simulation for the Monty Hall problem, and we broke down the code to explain how each part works. We covered the key steps, including:\n",
    "- Setting up door options and initial choice.\n",
    "- Iterating through repetitions to simulate random winning doors.\n",
    "- How the host reveals a goat door.\n",
    "- How the player switches doors.\n",
    "- Counting wins when the player switches.\n",
    "The code was explained step by step, highlighting how the logic works to simulate the switching strategy and its higher probability of winning.\n",
    "\n",
    "2. Understanding the Code in Detail\n",
    "You asked for clarification on specific lines:\n",
    "- In Cell 6, you inquired why all_door_options_list[0] represents the remaining door. We explained that after Monty reveals a goat door, only one door remains, which is selected as all_door_options_list[0]—the only door left to switch to.\n",
    "\n",
    "3. Improved Streamlined Version of the Code\n",
    "I provided a more streamlined version of the Monty Hall simulation to make it easier to understand. Key changes included:\n",
    "- Using more intuitive variable names.\n",
    "- Simplifying the process of Monty revealing a goat door.\n",
    "- Using list comprehensions to make switching logic clearer. This revised version was designed to be cleaner and easier to explain while keeping the simulation accurate.\n",
    "\n",
    "4. Detailed Explanation of Specific Lines\n",
    "- List comprehension explanation: You asked about the line:\n",
    "possible_reveal_doors = [door for door in all_door_options if door != winning_door and door != initial_choice]\n",
    "We explained how this line creates a list of doors that Monty can reveal by excluding the winning door and the player's initial choice.\n",
    "- Expression vs. Item: You asked whether the 'expression' in a list comprehension represents the final output, and we confirmed that the 'expression' (in this case, door) becomes the final output for each item that satisfies the condition.\n",
    "\n",
    "5. Explanation of the += Operator\n",
    "We discussed the use of += in this line:\n",
    "if remaining_door == winning_door:\n",
    "    wins_with_switch += 1\n",
    "You asked what += means, and I explained that it is a shorthand for adding a value to a variable and updating it (i.e., wins_with_switch += 1 is the same as wins_with_switch = wins_with_switch + 1).\n",
    "\n",
    "**Link to the chat log history for \"Pre-lecture\" HW:** https://chatgpt.com/share/66e74aba-2e4c-8011-9ec1-148782e3a519"
   ]
  },
  {
   "cell_type": "markdown",
   "id": "0a9211e5",
   "metadata": {},
   "source": [
    "## Summaries of my ChatBot session (Q#4) (02)\n",
    "1. Markovian ChatBot Code:\n",
    "- We discussed a snippet of code that builds the foundation of a Markovian ChatBot. The code uses dictionaries (word_used and next_word) to track word frequencies and the transitions between words in a text. The chatbot would generate new sentences by probabilistically choosing the next word based on these counts.\n",
    "\n",
    "2. Loop Explanation:\n",
    "- I explained the use of enumerate(words[:-1]), which is used to iterate over a list of words except for the last one. This ensures that each word has a \"next word\" to reference, avoiding index errors.\n",
    "\n",
    "3. List Slicing Examples:\n",
    "- I provided examples of list slicing using various forms of the syntax words[:]. This included copying lists, slicing from specific start and stop indices, using steps, negative indexing, and reversing lists.\n",
    "\n",
    "4. Use of [] vs ():\n",
    "- We clarified why the code uses square brackets [] and not parentheses () when accessing and updating dictionaries. Square brackets are used for accessing and assigning values in dictionaries, while parentheses are used for function calls or tuples.\n",
    "\n",
    "5. Explanation of next_word[word] and next_word[word][words[i+1]]:\n",
    "- We discussed the structure of next_word[word] as a dictionary holding counts of words that follow word. I explained how next_word[word][words[i+1]] accesses the count of occurrences of words[i+1] immediately following word, and how the code updates this count.\n",
    "\n",
    "6. User's Training Method:\n",
    "- The user shared that they will be using a series of stories with different characters to \"train\" their Markovian ChatBot. This approach will provide a rich and diverse dataset for generating language patterns based on the stories’ structure.\n",
    "\n",
    "**Link to the chat log history for \"Pre-lecture\" HW:** https://chatgpt.com/share/66e75dbb-9278-8011-9344-832ae935b5b1"
   ]
  },
  {
   "cell_type": "markdown",
   "id": "d24ed6e4",
   "metadata": {},
   "source": [
    "## Summaries of my ChatBot session (Q#5.1) (03)\n",
    "1. Initial Markovian ChatBot Code:\n",
    "You presented the initial version of a Markovian ChatBot using dictionaries to track word usage and predict the next word based on previous word frequency. The code utilizes a single-word context to form predictions, using loops to iterate through the list of words and update counts of word occurrences and transitions.\n",
    "\n",
    "2. Markovian ChatBot Extension #1:\n",
    "You introduced an extension of the chatbot, where the prediction context is expanded from one word to two consecutive words (bigrams). This transition allows the model to make more accurate predictions by considering two-word pairs, a step towards a second-order Markov model. In this extension:\n",
    "- A bigram is created from the current word and the next word.\n",
    "- Two new dictionaries word_used2 and next_word2 track occurrences of these bigrams and the words that follow them.\n",
    "\n",
    "3. Cell-by-Cell Explanation:\n",
    "I provided a cell-by-cell breakdown of Markovian ChatBot Extension #1:\n",
    "- Cell 1: Initializes word_used2 and next_word2 as defaultdict objects. next_word2 is initialized with a lambda function to return a nested defaultdict(int) automatically when needed.\n",
    "- Cell 2: Iterates through the list of words, constructs bigrams, and updates the counts of the bigrams and the words that follow them.\n",
    "- Cell 3: Optionally prints the resulting dictionaries to inspect the word transition data.\n",
    "\n",
    "4. Explanation of lambda in Cell 1:\n",
    "You asked for clarification on the use of lambda in Cell 1. I explained that lambda is an anonymous function used to create default values for missing keys in the dictionary. In this context, the lambda function is used to automatically return a new defaultdict(int) for each missing key in next_word2. This simplifies the code by handling missing entries dynamically without manual checks.\n",
    "\n",
    "**Link to the chat log history for \"Post-lecture\" HW:** https://chatgpt.com/share/66e85281-ca14-8011-84f9-f1a8f9b7958b"
   ]
  },
  {
   "cell_type": "markdown",
   "id": "0e8f1119",
   "metadata": {},
   "source": [
    "## Summaries of my ChatBot session (Q#5.3) (04)\n",
    "Here’s a concise summary of our exchanges regarding the Markovian ChatBot and its extensions:\n",
    "\n",
    "Markovian ChatBot Code (Original):\n",
    "You initially shared the Markovian ChatBot code, which tracks word transitions to create a basic Markov Chain:\n",
    "\n",
    "word_used: Tracks how many times each word appears.\n",
    "next_word: Tracks how often a particular word follows another word (bigram model).\n",
    "Markovian ChatBot Extension #2:\n",
    "You then extended the original chatbot with additional functionality:\n",
    "\n",
    "Character-based word modeling: You introduced the concept of handling words associated with specific characters in a dataset (e.g., from a dialogue).\n",
    "Counter and defaultdict: The extension makes use of Counter to count character appearances and defaultdict to automatically manage deeply nested dictionaries.\n",
    "Bigrams and Trigrams:\n",
    "word_used2C stores bigrams (two-word sequences) used by each character.\n",
    "next_word2C stores trigrams (three-word sequences), tracking the word that follows a bigram for each character.\n",
    "Detailed Explanations:\n",
    "We then broke down the extension step-by-step:\n",
    "\n",
    "Cell 1 (Imports):\n",
    "\n",
    "You imported Counter for counting occurrences of characters and defaultdict for creating nested dictionaries that automatically initialize missing keys.\n",
    "Cell 2 (Preprocessing Characters):\n",
    "\n",
    "The column avatar.character was processed using str.upper() (to convert names to uppercase) and str.replace(' ','.') (to replace spaces with periods). The newline character \\n and colon : were added to mimic a common dialogue structure (e.g., \"CHARACTER_NAME:\").\n",
    "This standardizes the names, helping later processing match text formats where characters appear with dialogue.\n",
    "Cell 3 (Nested defaultdicts):\n",
    "\n",
    "Nested defaultdict structure: This allows dictionaries to be automatically created and nested at multiple levels, eliminating the need for manual initialization.\n",
    "The word_used2C dictionary tracks how many times each character uses specific bigrams.\n",
    "The next_word2C dictionary tracks how often a specific word follows a bigram (trigram modeling).\n",
    "Cell 4 (Main Loop - Bigram/Trigram Tracking):\n",
    "\n",
    "The loop processes each word in a text and associates it with a character, then tracks how often that character uses particular bigrams and trigrams. This adds depth to the chatbot by allowing it to generate character-specific predictions.\n",
    "Conclusion:\n",
    "In this series of interactions, we analyzed both the original and extended Markovian ChatBot code. We focused on understanding how nested dictionaries can be used to store word transitions at multiple levels (character, bigram, trigram) and how preprocessing steps like adding \\n and : ensure correct character matching.\n",
    "\n",
    "\n",
    "\n",
    "**Link to the chat log history for \"Post-lecture\" HW:** https://chatgpt.com/share/66e85303-0be8-8011-ae11-a4a882297018"
   ]
  },
  {
   "cell_type": "markdown",
   "id": "2dce97e5",
   "metadata": {},
   "source": [
    "## 6. Report on your experience interacting with ChatBots to understand the Monte Hall problem and \"Markovian ChatBot\" code\n",
    "**1. Discuss how quickly the ChatBot was able to be helpful for each of the above questions, and if so, how?**\n",
    "\n",
    "Chat was incredibly fast and helpful when I asked about both the Monty Hall problem and the Markovian ChatBot code. For the Monty Hall problem, it broke down each part of the code clearly and quickly, helping me understand what each line was doing without overwhelming me with too much detail. When I moved on to the Markovian ChatBot, it again provided clear and organized explanations, especially when dealing with the character-specific aspects of the code.\n",
    "\n",
    "**2. Discuss whether or not interacting with ChatBot to try to figure things out was frustrating or unhelpful, and if so, how?**\n",
    "\n",
    "There was not much frustration with the interaction overall. It felt smooth most of the time. The responses Chat gave were clear and were exactly what I needed. However, I did find its explanation of 'nested dictionaries' for the more complex extension to the Markovian ChatBot frustrating and less helpful. Chat struggled to explain this topic in a way that was easy to understand. I believe this might result from giving Chat too much work all at once. When I asked specifically about the 'nested dictionaries' it gave me a more in-depth response and that one was way better than the 'general' response it gave me earlier. This suggests that targeted questions might help Chat generate more effective explanations.\n",
    "\n",
    "**3. Based on your experiences to date (e.g., including using ChatBots to troubleshoot coding errors in the previous homework), provide an overall assessment evaluating the usefulness of ChatBots as tools to help you understand code**\n",
    "\n",
    "Based on my experiences of working with ChatBots so far, they are really effective tools for understanding code. For someone like me, who has never coded before, ChatBots, especially ChatGPT, feel like a virtual and intelligent teacher. Whenever I was stuck on some complex concepts in LEC/HW (I mostly did,) they helped break them down into manageable parts and provided an easier way for me to understand them. When I ran into confusion about anything in the interaction with the ChatBot, it adjusted and gave explanations/examples that helped clarify things. While it is not the same as talking to a human tutor, it is very close and useful for troubleshooting coding errors or learning new concepts quickly. Another major benefit of ChatBots is that, unlike humans (a prof or a TA), you can have access to its help 24/7, which is really friendly to someone like me who is a bit shy/hesitant to ask questions in person and works late at night.\n"
   ]
  },
  {
   "cell_type": "markdown",
   "id": "457a374f",
   "metadata": {},
   "source": [
    "## 7. Reflect on your experience interacting with ChatBot and describe how your perception of AI-driven assistance tools in the context of learning coding, statistics, and data science has been evolving (or not) since joining the course\n",
    "Since joining the course, my perception of AI tools like ChatGPT hasn’t changed much. In the first lecture, prof. Scott Schwartz said something like, \"Do not rely on ChatBots to 'do the work for you' instead, leverage them as a tool to help you learn and work more efficiently.\" I fully agreed with this idea back then and now still. I've always seen ChatBots as helpful assistants rather than something to fully depend on. They are great for breaking down complex concepts or debugging code, but I’ve found that true understanding requires me to actually try and practice things on my own. For example, you can't just copy and paste code from Chat to complete your homework, you have to read the code it gives you carefully and try your best to understand. If there is something you still don't understand, ask Chat over and over again, until you finally get the idea. Also, it would be helpful to try to code in your Jupyter notebook to practice the topics you learn from Chat. "
   ]
  },
  {
   "cell_type": "markdown",
   "id": "2e81825a",
   "metadata": {},
   "source": [
    "## Summaries of my ChatBot session (Q#8.3) (05)\n",
    "Key Topics Discussed:\n",
    "\n",
    "Data Science Skills and Career Relevance:\n",
    "\n",
    "We discussed four key skills relevant to the data science industry:\n",
    "Learning and Adaptability: Emphasized as essential due to the fast pace of technological advancements. The ability to learn new tools and techniques ensures long-term career viability in data science.\n",
    "Communication: Highlighted as critical for explaining complex data insights to non-technical stakeholders, with the ability to influence business decisions.\n",
    "Coding: Identified as a core skill for handling data manipulation, building models, and deploying scalable solutions in languages like Python and R.\n",
    "Statistics and Data Analysis: Essential for model building, hypothesis testing, and identifying trends in large datasets, making it fundamental to the profession.\n",
    "Can You Be a Statistician or Data Scientist Without Coding or Data Analysis?\n",
    "\n",
    "We explored the possibility of being a statistician or data scientist without coding or conducting data analysis. The consensus was that both fields typically require coding and data analysis, although some roles (like theoretical statistician or consultant) may focus more on the theoretical aspects. However, even in these cases, some level of hands-on data work is likely required.\n",
    "Exploring the Actuary Profession:\n",
    "\n",
    "We transitioned to discussing the skills most valuable for a career as an actuary, highlighting:\n",
    "Mathematics and Analytical Skills: Crucial for evaluating risk using mathematical models.\n",
    "Proficiency in Actuarial Science: Specialized knowledge in actuarial methods and passing certification exams (e.g., from the Society of Actuaries) is essential.\n",
    "Statistics and Probability: Actuaries rely on statistical models to assess risk.\n",
    "Financial and Business Knowledge: Actuaries must understand finance, economics, and regulatory requirements to design financially sound insurance products or pension plans.\n",
    "Communication: Explaining complex risk models to non-experts is critical.\n",
    "Technical and Coding Skills: Increasingly important as actuaries use software and coding (Python, R, VBA) for modeling.\n",
    "Attention to Detail: Accuracy is key when working with sensitive financial data.\n",
    "Regulatory Knowledge: Actuaries must comply with industry regulations.\n",
    "\n",
    "**Link to the chat log history for \"Post-lecture\" HW:** https://chatgpt.com/share/66e8bd83-c52c-8011-be5d-3c42cbbfce97"
   ]
  },
  {
   "cell_type": "markdown",
   "id": "713f0c58",
   "metadata": {},
   "source": [
    "## 8.4. Paraphrase the assessments and conclusions of your conversation in the form of a reflection on your current thoughts regarding your potential future career(s) and how you can go about building the skills you need to pursue it\n",
    "\n",
    "Reflecting on my career exploration, I've realized that if I want to pursue a path as an actuary, I need to focus on building a strong foundation in mathematics and statistics. More than that, communication is also important for me to explain ideas or results to people who are not experts. I’ll also have to learn to code and get familiar with financial and business concepts. The courses I have enrolled in this year are all requirements to get into the Actuarial Science Specialist Program. For example, MAT137 can help me build my mathematical skills, STA130 can help me with statistics knowledge as well as Python, and CSC108 can also teach me Python. I am also planning to attend networking events on campus as much as possible to enhance my communication skills."
   ]
  },
  {
   "cell_type": "markdown",
   "id": "6e68fb74",
   "metadata": {},
   "source": [
    "## 8.5. Give your thoughts regarding the helpfulness or limitations of your conversation with a ChatBot, and describe the next steps you would take to pursue this conversation further if you felt the information the ChatBot provides was somewhat high level and general, and perhaps lacked the depth and detailed knowledge of a dedicated subject matter expert who had really take the time to understand the ins and outs of the industry and career path in question.\n",
    "The conversation with the ChatBot indeed has been helpful in giving me a solid overview of what skills are needed to become an actuary. However, the limitation of this conversation is that it did not provide the depth and specific, real-world advice you’d get from an expert in the field. It's not practical enough. The next steps would be actually reaching out to some actual actuaries or professionals in the field to get deeper insights on what the day-to-day looks like and how to really prepare for the career."
   ]
  },
  {
   "cell_type": "markdown",
   "id": "cab7e509",
   "metadata": {},
   "source": [
    "## 9. Have you reviewed the course wiki-textbook and interacted with a ChatBot (or, if that wasn't sufficient, real people in the course piazza discussion board or TA office hours) to help you understand all the material in the tutorial and lecture that you didn't quite follow when you first saw it?\n",
    "Yes"
   ]
  },
  {
   "cell_type": "code",
   "execution_count": null,
   "id": "08f867d1",
   "metadata": {},
   "outputs": [],
   "source": []
  }
 ],
 "metadata": {
  "kernelspec": {
   "display_name": "Python 3 (ipykernel)",
   "language": "python",
   "name": "python3"
  },
  "language_info": {
   "codemirror_mode": {
    "name": "ipython",
    "version": 3
   },
   "file_extension": ".py",
   "mimetype": "text/x-python",
   "name": "python",
   "nbconvert_exporter": "python",
   "pygments_lexer": "ipython3",
   "version": "3.11.6"
  }
 },
 "nbformat": 4,
 "nbformat_minor": 5
}
