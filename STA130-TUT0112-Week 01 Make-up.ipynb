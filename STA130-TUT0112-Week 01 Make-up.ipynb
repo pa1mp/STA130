{
 "cells": [
  {
   "cell_type": "markdown",
   "id": "7ef55318",
   "metadata": {},
   "source": [
    "# STA130_TUT01_MAKEUP_MAKEUP"
   ]
  },
  {
   "cell_type": "markdown",
   "id": "f8d4294d",
   "metadata": {},
   "source": [
    "Here we go again."
   ]
  },
  {
   "cell_type": "markdown",
   "id": "48ad4786",
   "metadata": {},
   "source": [
    "### (Using notebooks and ChatBots) Demo"
   ]
  },
  {
   "cell_type": "markdown",
   "id": "6bd8291f",
   "metadata": {},
   "source": [
    "### 1. Using Jupyter notebooks as a \"Python calculator\" and editing \"Markdown cells\""
   ]
  },
  {
   "cell_type": "code",
   "execution_count": 1,
   "id": "f4ac047a",
   "metadata": {},
   "outputs": [
    {
     "data": {
      "text/plain": [
       "2"
      ]
     },
     "execution_count": 1,
     "metadata": {},
     "output_type": "execute_result"
    }
   ],
   "source": [
    "1+1"
   ]
  },
  {
   "cell_type": "code",
   "execution_count": 2,
   "id": "659d3941",
   "metadata": {},
   "outputs": [
    {
     "data": {
      "text/plain": [
       "72"
      ]
     },
     "execution_count": 2,
     "metadata": {},
     "output_type": "execute_result"
    }
   ],
   "source": [
    "36+36"
   ]
  },
  {
   "cell_type": "code",
   "execution_count": 3,
   "id": "4f9f578d",
   "metadata": {},
   "outputs": [
    {
     "data": {
      "text/plain": [
       "4.0"
      ]
     },
     "execution_count": 3,
     "metadata": {},
     "output_type": "execute_result"
    }
   ],
   "source": [
    "8/2"
   ]
  },
  {
   "cell_type": "markdown",
   "id": "fcee99cc",
   "metadata": {},
   "source": [
    "A Makrdown cell. *A Makrdown cell.* **A Makrdown cell.** \n",
    "### A Makrdown cell.\n",
    "- A Makrdown cell.\n",
    "- A Makrdown cell.\n",
    "1. A Makrdown cell.\n",
    "2. A Makrdown cell."
   ]
  },
  {
   "cell_type": "markdown",
   "id": "6ff2617a",
   "metadata": {},
   "source": [
    "### 2. Demonstrate working with ChatGPT"
   ]
  },
  {
   "cell_type": "markdown",
   "id": "b0d92f08",
   "metadata": {},
   "source": [
    "**The first data set - works:**"
   ]
  },
  {
   "cell_type": "code",
   "execution_count": 2,
   "id": "bfe1e7a7",
   "metadata": {},
   "outputs": [
    {
     "name": "stdout",
     "output_type": "stream",
     "text": [
      "Missing data counts for Titanic dataset:\n",
      "PassengerId      0\n",
      "Survived         0\n",
      "Pclass           0\n",
      "Name             0\n",
      "Sex              0\n",
      "Age            177\n",
      "SibSp            0\n",
      "Parch            0\n",
      "Ticket           0\n",
      "Fare             0\n",
      "Cabin          687\n",
      "Embarked         2\n",
      "dtype: int64\n"
     ]
    }
   ],
   "source": [
    "import pandas as pd\n",
    "\n",
    "# Load the Titanic dataset\n",
    "titanic_url = \"https://raw.githubusercontent.com/datasciencedojo/datasets/master/titanic.csv\"\n",
    "titanic_data = pd.read_csv(titanic_url)\n",
    "\n",
    "# Get missing data counts\n",
    "titanic_missing_counts = titanic_data.isnull().sum()\n",
    "print(\"Missing data counts for Titanic dataset:\")\n",
    "print(titanic_missing_counts)\n"
   ]
  },
  {
   "cell_type": "markdown",
   "id": "080abe91",
   "metadata": {},
   "source": [
    "**The second data set - works:**"
   ]
  },
  {
   "cell_type": "code",
   "execution_count": 3,
   "id": "901f6b94",
   "metadata": {},
   "outputs": [
    {
     "name": "stdout",
     "output_type": "stream",
     "text": [
      "\n",
      "Missing data counts for Cars dataset:\n",
      "Name                0\n",
      "Miles_per_Gallon    8\n",
      "Cylinders           0\n",
      "Displacement        0\n",
      "Horsepower          6\n",
      "Weight_in_lbs       0\n",
      "Acceleration        0\n",
      "Year                0\n",
      "Origin              0\n",
      "dtype: int64\n"
     ]
    }
   ],
   "source": [
    "# Load the Cars dataset\n",
    "cars_url = \"https://raw.githubusercontent.com/vega/vega-datasets/master/data/cars.json\"\n",
    "cars_data = pd.read_json(cars_url)\n",
    "\n",
    "# Get missing data counts\n",
    "cars_missing_counts = cars_data.isnull().sum()\n",
    "print(\"\\nMissing data counts for Cars dataset:\")\n",
    "print(cars_missing_counts)\n"
   ]
  },
  {
   "cell_type": "markdown",
   "id": "31d1b263",
   "metadata": {},
   "source": [
    "**The third data set - no missing values:**"
   ]
  },
  {
   "cell_type": "code",
   "execution_count": 4,
   "id": "de33e28b",
   "metadata": {},
   "outputs": [
    {
     "name": "stdout",
     "output_type": "stream",
     "text": [
      "\n",
      "Missing data counts for Gapminder dataset:\n",
      "country      0\n",
      "year         0\n",
      "pop          0\n",
      "continent    0\n",
      "lifeExp      0\n",
      "gdpPercap    0\n",
      "dtype: int64\n"
     ]
    }
   ],
   "source": [
    "# Load the Gapminder dataset\n",
    "gapminder_url = \"https://raw.githubusercontent.com/plotly/datasets/master/gapminderDataFiveYear.csv\"\n",
    "gapminder_data = pd.read_csv(gapminder_url)\n",
    "\n",
    "# Get missing data counts\n",
    "gapminder_missing_counts = gapminder_data.isnull().sum()\n",
    "print(\"\\nMissing data counts for Gapminder dataset:\")\n",
    "print(gapminder_missing_counts)\n"
   ]
  },
  {
   "cell_type": "markdown",
   "id": "32801432",
   "metadata": {},
   "source": [
    "**The last data set - no missing values:**"
   ]
  },
  {
   "cell_type": "code",
   "execution_count": 5,
   "id": "900676b7",
   "metadata": {},
   "outputs": [
    {
     "name": "stdout",
     "output_type": "stream",
     "text": [
      "\n",
      "Missing data counts for Finance Charts Apple dataset:\n",
      "Date             0\n",
      "AAPL.Open        0\n",
      "AAPL.High        0\n",
      "AAPL.Low         0\n",
      "AAPL.Close       0\n",
      "AAPL.Volume      0\n",
      "AAPL.Adjusted    0\n",
      "dn               0\n",
      "mavg             0\n",
      "up               0\n",
      "direction        0\n",
      "dtype: int64\n"
     ]
    }
   ],
   "source": [
    "# Load the Finance Charts Apple dataset\n",
    "finance_url = \"https://raw.githubusercontent.com/plotly/datasets/master/finance-charts-apple.csv\"\n",
    "finance_data = pd.read_csv(finance_url)\n",
    "\n",
    "# Get missing data counts\n",
    "finance_missing_counts = finance_data.isnull().sum()\n",
    "print(\"\\nMissing data counts for Finance Charts Apple dataset:\")\n",
    "print(finance_missing_counts)\n"
   ]
  },
  {
   "cell_type": "markdown",
   "id": "ff2d3746",
   "metadata": {},
   "source": [
    "### Summary of Chatbot Session\n",
    "\n",
    "Here's a summary of our exchanges:\n",
    "\n",
    "1. **Dataset Requests**: You requested amusing, funny, or interesting datasets that have missing values, are available online in raw CSV format, and should not be visualized on websites like GitHub. I provided several links, but only one worked for you.\n",
    "\n",
    "2. **Links from GitHub**: You specifically asked for more links from raw.githubusercontent.com. I provided additional links to datasets from that site.\n",
    "\n",
    "3. **Loading Datasets**: You asked for code to load the following datasets into a Jupyter notebook using Pandas and to get missing data counts:\n",
    "   - Titanic Dataset\n",
    "   - Cars Dataset\n",
    "   - Gapminder Dataset\n",
    "   - Finance Charts Apple Dataset\n",
    "\n",
    "   I provided separate code snippets for each dataset to accomplish this.\n",
    "\n",
    "If you need any adjustments or additional details, let me know!\n",
    "\n",
    "## https://chatgpt.com/share/66eb889e-4570-8011-884c-2ba026c82aaf"
   ]
  },
  {
   "cell_type": "markdown",
   "id": "1ff16e68",
   "metadata": {},
   "source": [
    "## Communication"
   ]
  },
  {
   "cell_type": "markdown",
   "id": "7f7c9fb9",
   "metadata": {},
   "source": [
    "### 1. Ice breakers  and introductions, in 8 groups of 3 or thereabouts...\n",
    "1. Each person may bring two emojis to a desert island... reveal your emojis at the same time... for emojis selected more than once the group should select one additional emoji\n",
    "\n",
    "Since I don't have group members now... I will just choose to bring Nerd Face 🤓 and Face with Tears of Joy 😂.\n",
    "\n",
    "2. Where are you from, what do you think your major might be, and what's an \"interesting\" fact that you're willing to share about yourself?\n",
    "\n",
    "I'm from China, and I think my major might be Actuarial Science. An \"interesting\" fact about me might be I don't eat breakfast."
   ]
  },
  {
   "cell_type": "markdown",
   "id": "2fe36a8f",
   "metadata": {},
   "source": [
    "### 2.  These are where all the bullet holes were in the planes that returned home so far after some missions in World War II\n",
    "1. Where would you like to add armour to planes for future missions?\n",
    "\n",
    "I initially thought I would like to add armour where most bullet holes are. But then I thought these planes managed to return home, which means that the areas with the most bullet holes are not the important parts. They returned because the parts with no bullet holes were hit. Therefore, I should add armour to the areas that have no bullet holes.\n",
    "\n",
    "2. Hint: there is a hypothetical dataset of the bullet holes on the planes that didn't return which is what we'd ideally compare against the dataset we observe...\n",
    "        \n",
    "![Classic image of survivorship bias of WW2 planes](https://upload.wikimedia.org/wikipedia/commons/thumb/b/b2/Survivorship-bias.svg/640px-Survivorship-bias.svg.png)"
   ]
  },
  {
   "cell_type": "markdown",
   "id": "f848ab92",
   "metadata": {},
   "source": [
    "### 3. Monte Hall problem: there is a gameshow with three doors, one of which has a prize, and you select one of the doors and the gameshow host reveals one of the other two unchosen doors which does not have the prize... would you like to change your guess to the other unchosen door?\n",
    "\n",
    "I would like to change my guess to the other unchosen door. If I stick with my original choice, the probability of winning is about 1/3. If I switch to the other door, the probability of winning becomes 2/3 because I am now more likely to be moving away from a wrong choice (also, I have done the HW2 and knew that the probability of winning when switching is around 0.66637.)\n",
    "\n",
    "![](https://mathematicalmysteries.org/wp-content/uploads/2021/12/04615-0sxvwbnzvvnhuklug.png)<br>"
   ]
  },
  {
   "cell_type": "markdown",
   "id": "6bc6e623",
   "metadata": {},
   "source": [
    "### 4. Discuss the experience of the groups for the WW2 planes and Monte Hall problems\n",
    "\n",
    "1. For each of these problems, have students vote on whether their groups (a) agreed on answers from the beginning, (b) agreed only after some discussion and convincing, or (c) retained somewhat divided in their opinions of the best way to proceed<br><br>\n",
    "\n",
    "I can't really do this one.\n",
    "    \n",
    "2. Briefely identify the correct answer from the answers the groups arrived at<br><br>\n",
    "\n",
    "I can't really do this one.\n",
    "    \n",
    "3. Prompt a [ChatGPT](https://chat.openai.com/) [or [Copilot](https://copilot.microsoft.com/)] ChatBot to introduce and explain \"survivorship bias\" using spotify songs as an example and see if students are able to generalize this idea for the WW2 planes problem and if they find it to be a convincing argument to understand the problem<br>\n",
    "#### https://chatgpt.com/share/66eb9620-b258-8011-a0e3-5e9490755c29\n",
    "\n",
    "4. Prompt a [ChatGPT](https://chat.openai.com/) [or [Copilot](https://copilot.microsoft.com/)] ChatBot to introduce and explain the Monte Hall problem and see if the students find it understandable and convincing<br>\n",
    "#### https://chatgpt.com/share/66eb97dd-c274-8011-9f4d-7c82184267ac"
   ]
  },
  {
   "cell_type": "code",
   "execution_count": null,
   "id": "8d728946",
   "metadata": {},
   "outputs": [],
   "source": []
  }
 ],
 "metadata": {
  "kernelspec": {
   "display_name": "Python 3 (ipykernel)",
   "language": "python",
   "name": "python3"
  },
  "language_info": {
   "codemirror_mode": {
    "name": "ipython",
    "version": 3
   },
   "file_extension": ".py",
   "mimetype": "text/x-python",
   "name": "python",
   "nbconvert_exporter": "python",
   "pygments_lexer": "ipython3",
   "version": "3.11.6"
  }
 },
 "nbformat": 4,
 "nbformat_minor": 5
}
