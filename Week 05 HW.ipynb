{
 "cells": [
  {
   "cell_type": "markdown",
   "id": "f755b36e",
   "metadata": {},
   "source": [
    "# Week 05 \"Pre-lecture\" HW"
   ]
  },
  {
   "cell_type": "markdown",
   "id": "9b6cdca9",
   "metadata": {},
   "source": [
    "### 1. The \"first pre-lecture video\" (above) describes hypothesis testing as addressing \"an idea that can be tested\", and the end of the video then discusses what our actual intended purpose in setting up a null hypothesis is."
   ]
  },
  {
   "cell_type": "markdown",
   "id": "2db28a6a",
   "metadata": {},
   "source": [
    "#### - What is the key factor that makes the difference between ideas that can, and cannot be examined and tested statistically?\n",
    "The key difference lies in whether the idea can be supported or refuted by data. An idea must be quantifiable and compared to some standard or value to be tested statistically. An idea that cannot be tested statistically would be a broad or abstract concept without data.\n",
    "\n",
    "#### - What would you describe is the key \"criteria\" defining what a good null hypothesis is?\n",
    "A good null hypothesis is precise, testable, and sets a default position or status quo. It usually represents no effect or no difference, providing a point of comparison. The null hypothesis is something we aim to reject with evidence, but it must always be framed in a way that allows it to be tested with data.\n",
    "\n",
    "#### - What is the difference between a null hypothesis and an alternative hypothesis in the context of hypothesis testing?\n",
    "The null hypothesis is the statement being tested, usually representing no change or the status quo. The alternative hypothesis is what you expect to be true if the null hypothesis is rejected. "
   ]
  },
  {
   "cell_type": "markdown",
   "id": "dc866bd3",
   "metadata": {},
   "source": [
    "---\n",
    "### 2. Towards the end of the \"first pre-lecture\" video (above) it is stated that, \"It is important to note that outcomes of tests refer to the population parameter, rather than the sample statistic! As such, the result that we get is for the population.\" In terms of the distinctions between the concepts of $x_i\\!$'s, $\\bar x$, $\\mu$, and $\\mu_0$, how would you describe what the sentence above means? Explain this concisely in your own words for a \"non-statsitical\" audience, defining the technical statistical terminology you use in your answer."
   ]
  },
  {
   "cell_type": "markdown",
   "id": "aabb0c8c",
   "metadata": {},
   "source": [
    "When we run a statistical test, we’re usually trying to figure out something about a large group of people or things (which we call the population), but because it’s hard to measure everyone, we collect data from a smaller group called a sample. Now, $x_i\\!$ represents individual data points in the sample—like one person’s height, if we’re measuring heights in a sample.\n",
    "\n",
    "When we calculate the average height of all the people in our sample, that’s called $\\bar x$, the sample mean. But the test isn’t just about this sample mean; we’re trying to use $\\bar x$ to make a guess about the true average height of the whole population, which we call $\\mu$ (the population mean). We can’t know it exactly, but we use our sample to get as close as possible to it.\n",
    "\n",
    "Before we run the test, we often have an initial assumption about the population's average, which is $\\mu_0$ (hypothesized population mean). This is the value we’re testing under the null hypothesis (the assumption that nothing’s going on, like there’s no real difference, and anything we see is just random chance.)\n",
    "\n",
    "The important thing to understand is that even though we work with a sample (and its data points like $x_i\\!$ and \\$\\bar x$, the results of the test are really about the population’s true average, $\\mu$, and not just the sample itself. So, we use the sample to estimate the population mean (bigger picture) and what we get from the test can be used to determine whether or not the $\\mu_0$ is likely equal to $\\mu$ (the actual population mean)."
   ]
  },
  {
   "cell_type": "markdown",
   "id": "929fc240",
   "metadata": {},
   "source": [
    "---\n",
    "### Summaries of my ChatBot session (Q#1-2) (01)\n",
    "**Link to the this chat log history for \"Pre-lecture\" HW:** https://chatgpt.com/share/670429bb-d424-8011-b2d6-6a0b610dd8aa\n",
    "\n",
    "1. **Statistical Testing Criteria**: We discussed that for an idea to be tested statistically, it must involve measurable and quantifiable variables. The key criteria for a good null hypothesis include specificity, testability, and falsifiability. We also explained that the null hypothesis (\\( H_0 \\)) assumes no effect or difference, while the alternative hypothesis (\\( H_1 \\)) proposes the presence of an effect or difference.\n",
    "\n",
    "2. **Distinction between Population Parameters and Sample Statistics**: We explored the meaning of a sentence from a video, emphasizing that hypothesis test outcomes refer to the population parameter rather than the sample statistic. The key concepts covered include:\n",
    "   - \\( x_i \\): Individual sample data points.\n",
    "   - \\( \\bar{x} \\): The sample mean, a statistic calculated from sample data.\n",
    "   - \\( \\mu \\): The population mean, the true mean of the population.\n",
    "   - \\( \\mu_0 \\): The hypothesized population mean under the null hypothesis.\n",
    "   \n",
    "   The takeaway is that hypothesis tests use the sample data (like \\( \\bar{x} \\)) to make inferences about the population mean \\( \\mu \\), not just the sample."
   ]
  },
  {
   "cell_type": "markdown",
   "id": "b8ea73e7",
   "metadata": {},
   "source": [
    "---\n",
    "### 3. The second \"Pre-lecture\" video (above) explains that we \"imagine a world where the null hypothesis is true\" when calculating a p-value? Explain why this is in your own words in a way that makes the most sense to you."
   ]
  },
  {
   "cell_type": "markdown",
   "id": "eabf912e",
   "metadata": {},
   "source": [
    "When calculating a p-value, we imagine a world where the null hypothesis is true because it helps us figure out how unusual our data is under that assumption.\n",
    "\n",
    "The p-value is the probability of getting a result as extreme as what we actually found, but only if the null hypothesis is true (meaning no effect). So, we imagine a scenario where the null hypothesis is true, like a world where a vaccine has no effect at all, and then we create a distribution (called the sampling distribution) of all the possible results we could get if the null hypothesis was right.\n",
    "\n",
    "Once we have that distribution, we compare our actual result to it. If our result is way out in the tails (far from what we expect under the null), the p-value will be small, which suggests that what we found is unlikely to happen if the null hypothesis is true. That gives us reason to doubt the null. If our result is more in the middle of the distribution (closer to what we’d expect under the null), the p-value is larger, and that means our data isn’t surprising under the null, so we don’t have strong evidence to reject it."
   ]
  },
  {
   "cell_type": "markdown",
   "id": "8d8b00f4",
   "metadata": {},
   "source": [
    "---\n",
    "### 4. The second \"Pre-lecture\" video (above) describes suggest that a smaller p-value makes the null hypothesis look more ridiculous. Explain why this is in your own words in a way that makes the most sense to you, clarifying the meaning of any technical statistical terminology you use in your answer."
   ]
  },
  {
   "cell_type": "markdown",
   "id": "ea9c56a3",
   "metadata": {},
   "source": [
    "When we talk about why a smaller p-value makes the null hypothesis look more \"ridiculous,\" it comes down to comparing what we actually found (the observed test statistic) to what we’d expect if the null hypothesis were true.\n",
    "\n",
    "Here’s how it works: The null hypothesis is basically saying, \"Nothing’s going on here,\" like there’s no effect or difference. If we assume that’s true, we can imagine all the possible results we might get just by random chance. This gives us what’s called the sampling distribution—it’s a range of possible values for our test statistic if the null hypothesis were true.\n",
    "\n",
    "Now, if our observed result (the test statistic) falls somewhere near the middle of this distribution, it’s like saying, \"Yeah, this is a pretty normal result; nothing strange here.\" In that case, the p-value will be large, and we don’t have any reason to doubt the null hypothesis.\n",
    "\n",
    "But if our result is way out in the tail of the distribution (like getting a really extreme result that we didn’t expect), the p-value will be small. This tells us that our result is super unlikely to have happened just by chance if the null hypothesis were true. That’s why a smaller p-value makes the null hypothesis look more and more ridiculous—it’s like saying, \"If the null hypothesis were really true, this result is so rare that it’s hard to believe!\""
   ]
  },
  {
   "cell_type": "markdown",
   "id": "570cdfa2",
   "metadata": {},
   "source": [
    "---\n",
    "### 5. Güntürkün (2003) recorded how kissing couples tilt their heads. 80 out of 124 couples, or 64.5% tilted their heads to the right. Simulate a **p-value** using a \"50/50 coin-flipping\" model for the assumption of the **null hypothesis** $H_0$ that the population of humans don't have left or right head tilt tendencies when kissing, and use the table below to determine the level of evidence we have against $H_0$. <br>"
   ]
  },
  {
   "cell_type": "markdown",
   "id": "52c0ad9a",
   "metadata": {},
   "source": [
    "Null hypothesis: The probability of tilting the head to the right when kissing is 50% (or p=0.5)."
   ]
  },
  {
   "cell_type": "code",
   "execution_count": 3,
   "id": "6f54cab5",
   "metadata": {
    "scrolled": true
   },
   "outputs": [
    {
     "name": "stdout",
     "output_type": "stream",
     "text": [
      "P-value: 0.0008\n"
     ]
    }
   ],
   "source": [
    "import numpy as np\n",
    "\n",
    "# Simulation parameters\n",
    "n_couples = 124\n",
    "n_right_tilts_observed = 80\n",
    "n_simulations = 10000\n",
    "prob_right_tilt = 0.5  # under the null hypothesis\n",
    "\n",
    "# Simulate the coin flips\n",
    "simulations = np.random.binomial(n_couples, prob_right_tilt, n_simulations)\n",
    "\n",
    "# Calculate the p-value: Proportion of simulations where the number of right tilts is as extreme or more extreme than observed\n",
    "p_value = np.mean(simulations >= n_right_tilts_observed)\n",
    "\n",
    "# Output the p-value\n",
    "print(f\"P-value: {p_value}\")"
   ]
  },
  {
   "cell_type": "markdown",
   "id": "e4dfdaeb",
   "metadata": {},
   "source": [
    "The output of the p-value is 0.0008, according to the table, we have very strong evidence against the null hypothesis, which means humans do have left or right head tilt tendencies when kissing."
   ]
  },
  {
   "cell_type": "markdown",
   "id": "9d9fea4c",
   "metadata": {},
   "source": [
    "---\n",
    "### Summaries of my ChatBot session (Q#5) (02)\n",
    "**Link to the this chat log history for \"Pre-lecture\" HW:** https://chatgpt.com/share/670442ab-3be8-8011-b603-d29cb0c01e93\n",
    "\n",
    "**Summary of Interactions: Simulating and Interpreting a P-value**\n",
    "\n",
    "1. **Initial Problem**:\n",
    "   You presented a scenario from Güntürkün (2003), where 80 out of 124 kissing couples (64.5%) tilted their heads to the right. You asked for help simulating a p-value using a \"50/50 coin-flipping\" model to test the null hypothesis (\\( H_0 \\)) that there is no left or right head tilt tendency when kissing.\n",
    "\n",
    "2. **Approach**:\n",
    "   - We set up the null hypothesis \\( H_0 \\), assuming no preference for tilting the head either to the left or right when kissing (a 50/50 chance).\n",
    "   - I explained that we would simulate 124 coin flips (representing the couples) with a 50% chance for each \"flip\" to land as a right tilt.\n",
    "   - We then repeated this simulation 10,000 times to generate a distribution under \\( H_0 \\), and calculated the p-value by determining how often the number of right tilts was 80 or more (as extreme as the observed result).\n",
    "\n",
    "3. **Calculation**:\n",
    "   I provided Python code to perform this simulation. After running it, we calculated a p-value of 0.0005, which indicated strong evidence against the null hypothesis.\n",
    "\n",
    "4. **Your Python Code**:\n",
    "   After you ran the code, you reported a p-value of 0.0008. I confirmed that the conclusion based on this p-value is valid and explained that the small p-value provides very strong evidence against the null hypothesis, supporting the idea that humans do have head tilt tendencies when kissing.\n",
    "\n",
    "5. **Conclusion**:\n",
    "   You drafted a conclusion stating: \"The output of the p-value is 0.0008, according to the table, we have very strong evidence against the null hypothesis, which means humans do have left or right head tilt tendencies when kissing.\"\n",
    "\n",
    "   I confirmed that your interpretation was correct but suggested a slight refinement: \"The p-value is 0.0008, which provides very strong evidence against the null hypothesis according to the significance table. This suggests that humans likely do have a tendency to tilt their heads to the left or right when kissing, rather than the tilting being purely random (50/50).\""
   ]
  },
  {
   "cell_type": "markdown",
   "id": "c15d7092",
   "metadata": {},
   "source": [
    "---\n",
    "# Week 05 \"Post-lecture\" HW"
   ]
  },
  {
   "cell_type": "markdown",
   "id": "1bbb723f",
   "metadata": {},
   "source": [
    "### 6. Can a smaller p-value definitively prove that the null hypothesis is false? Is it possible to definitively prove that Fido (from the \"second pre-lecture video\") is innocent using a p-value? Is it possible to difinitively prove that Fido is guilty using a p-value? How low or high does a p-value have to be to definitely prove one or the other? Explain this concisely in your own words.\n",
    "A smaller p-value can't definitively prove that the null hypothesis is false, it just gives us evidence against the null hypothesis. The same idea applies to Fido: you can’t definitively prove that Fido is innocent or guilty using a p-value. A p-value only tells us how likely the observed data is if the null hypothesis (like Fido being innocent) were true.\n",
    "\n",
    "Even if you get a super small p-value, it just suggests that what we observed is really unlikely if Fido were innocent, but it doesn’t prove guilt. Similarly, a large p-value doesn’t prove innocence; it just means there’s not enough evidence to reject the null hypothesis.\n",
    "\n",
    "There’s no \"cutoff\" p-value that can definitely prove guilt or innocence. Typically, a p-value below 0.05 is used to say we have strong evidence against the null hypothesis, but that’s just a guideline, not proof."
   ]
  },
  {
   "cell_type": "markdown",
   "id": "f9a98daa",
   "metadata": {},
   "source": [
    "---\n",
    "### 7. In the second half of the \"first pre-lecture video\" the concept of a \"one sided\" (or \"one tailed\") test is introduced in contrast to a \"two sided\" (or \"two tailed\") test. Work with a ChatBot to adjust the code from \"Demo II of the Week 5 TUT\" (which revisits the \"Vaccine Data Analysis Assignment\" from Week 04 HW \"Question 8\") in order to compute a p-value for a \"one sided\" (or \"one tailed\") hypothesis test rather than the \"two sided\" (or \"two tailed\") version it provides."
   ]
  },
  {
   "cell_type": "code",
   "execution_count": 6,
   "id": "763282cf",
   "metadata": {},
   "outputs": [
    {
     "name": "stdout",
     "output_type": "stream",
     "text": [
      "Number of Simulations:  10000 \n",
      "\n",
      " Number of simulated statistics (under H0)\n",
      " that are \"as or more extreme\" than the observed statistic:  565 \n",
      "\n",
      " p-value\n",
      "(= simulations \"as or more extreme\" / total simulations):  0.0565\n"
     ]
    },
    {
     "data": {
      "image/png": "[encoded data removed]"
     },
     "metadata": {},
     "output_type": "display_data"
    }
   ],
   "source": [
    "import numpy as np\n",
    "import pandas as pd\n",
    "import plotly.figure_factory as ff\n",
    "import plotly.graph_objects as go\n",
    "\n",
    "# Create patient_data DataFrame\n",
    "patient_data = pd.DataFrame({\n",
    "    \"PatientID\": [1, 2, 3, 4, 5, 6, 7, 8, 9, 10],\n",
    "    \"Age\": [45, 34, 29, 52, 37, 41, 33, 48, 26, 39],\n",
    "    \"Gender\": [\"M\", \"F\", \"M\", \"F\", \"M\", \"F\", \"M\", \"F\", \"M\", \"F\"],\n",
    "    \"InitialHealthScore\": [84, 78, 83, 81, 81, 80, 79, 85, 76, 83],\n",
    "    \"FinalHealthScore\": [86, 86, 80, 86, 84, 86, 86, 82, 83, 84]\n",
    "})\n",
    "\n",
    "# Calculate health score change\n",
    "patient_data['HealthScoreChange'] = patient_data.FinalHealthScore-patient_data.InitialHealthScore\n",
    "\n",
    "# Initialize simulation settings\n",
    "np.random.seed(1)  # make simulation reproducible\n",
    "number_of_simulations = 10000  # experiment with this... what does this do?\n",
    "n_size = len(patient_data)  # number of patients\n",
    "IncreaseProportionSimulations_underH0random = np.zeros(number_of_simulations)\n",
    "\n",
    "# Generate \"random improvement\" proportions assuming H0 (vaccine has no average effect)\n",
    "for i in range(number_of_simulations):\n",
    "    random_improvement = np.random.choice([0, 1], size=n_size, replace=True)\n",
    "    IncreaseProportionSimulations_underH0random[i] = random_improvement.mean()\n",
    "\n",
    "# Hypothesized population parameter under H0\n",
    "population_parameter_value_under_H0 = 0.5\n",
    "\n",
    "# Observed statistic\n",
    "observed_statistic = (patient_data.HealthScoreChange > 0).mean()\n",
    "\n",
    "# Simulated statistics under H0\n",
    "simulated_statistics = IncreaseProportionSimulations_underH0random\n",
    "\n",
    "# One-sided (right-tailed) test: checking if simulated stats are greater than the observed statistic\n",
    "SimStats_as_or_more_extreme_than_ObsStat = simulated_statistics >= observed_statistic\n",
    "\n",
    "# Calculate p-value for one-sided test\n",
    "p_value = SimStats_as_or_more_extreme_than_ObsStat.sum() / number_of_simulations\n",
    "\n",
    "# Output results\n",
    "print(\"Number of Simulations: \", number_of_simulations, \"\\n\\n\",\n",
    "      \"Number of simulated statistics (under H0)\\n\",\n",
    "      'that are \"as or more extreme\" than the observed statistic: ',\n",
    "      SimStats_as_or_more_extreme_than_ObsStat.sum(), \"\\n\\n\",\n",
    "      'p-value\\n(= simulations \"as or more extreme\" / total simulations): ', p_value)\n",
    "\n",
    "# Visualization (optional, as in the original code)\n",
    "hist_data = [IncreaseProportionSimulations_underH0random + np.random.uniform(-0.05, 0.05, size=len(IncreaseProportionSimulations_underH0random))]\n",
    "group_labels = ['SYNTHETICALLY SIMULATED Sampling Distribution<br>under H0']\n",
    "\n",
    "fig = ff.create_distplot(hist_data, group_labels, curve_type='normal', show_hist=True, show_rug=False, bin_size=0.1)\n",
    "pv_y = 2.5\n",
    "pv_y_ = .25\n",
    "\n",
    "# Mark observed statistic on the plot\n",
    "fig.add_shape(type=\"line\", x0=observed_statistic, y0=0, \n",
    "              x1=observed_statistic, y1=pv_y, line=dict(color=\"Green\", width=4), name=\"Observed Statistic\")\n",
    "fig.add_trace(go.Scatter(x=[observed_statistic], y=[pv_y + pv_y_], \n",
    "                         text=[\"Observed<br>Statistic<br>^\"], mode=\"text\", showlegend=False))\n",
    "\n",
    "# Add a transparent rectangle for the upper extreme region\n",
    "fig.add_shape(type=\"rect\", x0=observed_statistic, y0=0, x1=1.25, y1=pv_y,\n",
    "              fillcolor=\"LightCoral\", opacity=0.5, line_width=0)\n",
    "\n",
    "# Update layout\n",
    "fig.update_layout(title=\"SYNTHETICALLY SIMULATED Sampling Distribution<br>under H0 with p-value regions\",\n",
    "                  xaxis_title=\"Mean Health Score Change\", yaxis_title=\"Density\", \n",
    "                  yaxis=dict(range=[0, pv_y + 2 * pv_y_]))\n",
    "fig.show(renderer=\"png\")  # Use fig.show(renderer=\"png\") for GitHub/MarkUs submissions\n"
   ]
  },
  {
   "cell_type": "markdown",
   "id": "124dff47",
   "metadata": {},
   "source": [
    "#### What changed in the code:\n",
    "The main change in the code is how we define the \"as or more extreme\" simulated statistics for calculating the p-value. In the original code, it  checks whether the simulated statistics deviate from the hypothesized parameter (0.5) in either direction (greater or less than the observed statistic). However, in the modified one-sided test, it focuses only on the direction of interest — greater than the observed statistic. This would be a right-tailed test. For a left-tailed test, it would focuse on the direction of interest - less than the observed statistic.\n",
    "\n",
    "#### How this changes the interpretation of the hypothesis test:\n",
    "- Two-Tailed Test: The two-sided test looks for extreme values on both sides of the hypothesized population parameter. It tests the hypothesis that the difference between the before and after health scores could be either larger or smaller than expected under the null hypothesis.\n",
    "- One-Tailed Test: The one-sided test only considers deviations in one direction (e.g., greater than the observed statistic in the case of a right-tailed test). This changes the hypothesis to focus solely on whether the health scores increased more than expected under the null hypothesis, ignoring decreases.\n",
    "\n",
    "#### Whether or not we should indeed expect the p-value to be smaller in the \"one tailed\" versus \"two tailed\" analysis:\n",
    "Yes, we should indeed expect the p-value to be smaller in the \"one tailed\" versus \"two tailed\" analysis. In a two-sided test, we consider both tails of the distribution when calculating the p-value. This means we are essentially looking at twice the area under the curve compared to a one-sided test, as we are checking for extreme values on both sides of the hypothesized value. On the other hand, in a one-sided test, we focus only on one direction (either greater than or less than), so the p-value is based on a smaller area under the curve, which typically results in a smaller p-value. This makes it easier to reject the null hypothesis.\n",
    "\n"
   ]
  },
  {
   "cell_type": "markdown",
   "id": "44f14155",
   "metadata": {},
   "source": [
    "---\n",
    "### Summaries of my ChatBot session (Q#7) (03)\n",
    "**Link to the this chat log history for \"Pre-lecture\" HW:** https://chatgpt.com/share/670462ab-1ef8-8011-a98d-fc0a99d035da\n",
    "\n",
    "#### Task Overview:\n",
    "You were tasked with modifying the code from \"Demo II of the Week 5 TUT\" to compute a p-value for a one-sided (one-tailed) hypothesis test instead of the original two-sided (two-tailed) version. The goal was to adjust the code for a more specific hypothesis and examine how this change affects the interpretation of the hypothesis test, and whether the p-value would be smaller for the one-tailed test.\n",
    "\n",
    "#### Key Code Adjustments:\n",
    "1. **Original Two-Sided Code**: In the two-tailed test, the condition for determining \"as or more extreme\" simulated statistics was:\n",
    "   ```python\n",
    "   SimStats_as_or_more_extreme_than_ObsStat = abs(simulated_statistics - population_parameter_value_under_H0) >= abs(observed_statistic - population_parameter_value_under_H0)\n",
    "   ```\n",
    "   This checked both directions of extreme values (greater or less than the observed statistic).\n",
    "\n",
    "2. **Modified One-Sided Code**: For the one-sided test, the condition was changed to focus only on values **greater than** the observed statistic:\n",
    "   ```python\n",
    "   SimStats_as_or_more_extreme_than_ObsStat = simulated_statistics >= observed_statistic\n",
    "   ```\n",
    "   This converts the test into a **right-tailed test**, where only increases in the health score are considered significant.\n",
    "\n",
    "3. **Dataset Setup**: To avoid errors, you added the dataset creation and calculated the `HealthScoreChange` as the difference between `FinalHealthScore` and `InitialHealthScore`.\n",
    "\n",
    "#### Interpretation Change:\n",
    "- **Two-Tailed Test**: The original test considered extreme values on both sides of the distribution (greater and less than the observed statistic). This tests whether the change in health scores could be either positive or negative.\n",
    "  \n",
    "- **One-Tailed Test**: The modified test focuses solely on one direction of interest (e.g., increases in health scores). This narrows the hypothesis to whether the treatment caused an improvement in health scores, ignoring potential decreases.\n",
    "\n",
    "#### P-Value Expectation:\n",
    "- The p-value for a one-tailed test is typically **smaller** than that for a two-tailed test because it only considers extreme values in one direction. In contrast, the two-tailed test includes both directions (greater and less than), effectively doubling the region of interest.\n",
    "\n",
    "#### Additional Clarifications:\n",
    "- You also clarified that the one-tailed test only works if the observed effect is in the predicted direction (e.g., an increase in health scores for a right-tailed test). If the effect is in the opposite direction, the one-tailed test would be inappropriate and could lead to misleading results."
   ]
  },
  {
   "cell_type": "markdown",
   "id": "76c9b81a",
   "metadata": {},
   "source": [
    "---\n",
    "## 8. Fisher's Tea Experiment Analysis with STA130 Students"
   ]
  },
  {
   "cell_type": "markdown",
   "id": "255b54e9",
   "metadata": {},
   "source": [
    "### Introduction\n",
    "\n",
    "This experiment is inspired by Ronald Fisher's famous tea-drinking experiment. In Fisher's original experiment, Dr. Muriel Bristol claimed she could tell whether milk or tea was poured first. Fisher tested this by preparing eight cups of tea—four with milk first and four with tea first—which Dr. Bristol correctly identified. In our version, we asked 80 STA130 students to figure out whether the milk or tea was poured first, and 49 students got it right.\n",
    "\n",
    "Our experiment is different from Fisher's in a few key ways, such as the number of participants and their level of expertise. Fisher's experiment tested someone with specific tea-tasting skills, while our experiment involved a large group of students without any special skills in tasting tea. This difference is important because it affects how we interpret the results. Fisher's experiment was focused on testing a specific skill, while ours looks at whether people in general can tell the difference, meaning our conclusions apply to a broader group.\n",
    "\n",
    "### Null and Alternative Hypotheses\n",
    "\n",
    "The null hypothesis ($H_0$) in this experiment is that the STA130 students cannot tell whether the milk or tea was poured first and are just guessing.\n",
    "\n",
    "- **Formal Statement of $H_0$**: $H_0: p = 0.5$, where $p$ is the proportion of STA130 students who correctly identify whether the milk or tea was poured first.\n",
    "\n",
    "The alternative hypothesis ($H_A$) is that the STA130 students do have some ability to correctly identify which ingredient was poured first.\n",
    "\n",
    "- **Alternative Hypothesis**: $H_A: p > 0.5$\n",
    "\n",
    "### Quantitative Analysis\n",
    "\n",
    "To test the null hypothesis, we will conduct a formal hypothesis test. We will simulate the scenario under the null hypothesis in which students are merely guessing, and then use this simulation to calculate a p-value. The p-value helps us decide if the observed result—49 correct answers out of 80—is unlikely if the students were really just guessing.\n",
    "\n",
    "The steps are as follows:\n",
    "\n",
    "- Set a seed for reproducibility: `np.random.seed(42)`\n",
    "- Simulate 10,000 experiments where 80 students each have a 50% chance of guessing correctly\n",
    "- Calculate the proportion of these simulations where the number of correct guesses is 49 or more\n",
    "\n",
    "### Methodology Code and Explanation\n",
    "\n",
    "Below is the Python code used for the analysis:"
   ]
  },
  {
   "cell_type": "code",
   "execution_count": 7,
   "id": "33414c91",
   "metadata": {},
   "outputs": [
    {
     "name": "stdout",
     "output_type": "stream",
     "text": [
      "P-value: 0.0294\n"
     ]
    }
   ],
   "source": [
    "import numpy as np\n",
    "\n",
    "# Set seed for reproducibility\n",
    "np.random.seed(42)\n",
    "\n",
    "# Parameters\n",
    "num_students = 80  # Total number of students in the experiment\n",
    "num_correct = 49  # Number of students who correctly identified the pouring order\n",
    "num_simulations = 10000  # Number of simulations to run\n",
    "\n",
    "# Simulate experiments under H0 (students are guessing randomly)\n",
    "simulations = np.random.binomial(num_students, 0.5, num_simulations)\n",
    "\n",
    "# Calculate p-value (proportion of simulations where the number of correct guesses is 49 or greater)\n",
    "p_value = np.sum(simulations >= num_correct) / num_simulations\n",
    "\n",
    "# Output the p-value\n",
    "print(f\"P-value: {p_value}\")"
   ]
  },
  {
   "cell_type": "markdown",
   "id": "dd521777",
   "metadata": {},
   "source": [
    "### Findings and Discussion\n",
    "The p-value we calculated is 0.0294, which helps us determine if the observed result of 49 correct answers is statistically significant. A p-value of 0.0294 is less than the significance level of 0.05, meaning that the result is unlikely if the null hypothesis were true. In other words, there is enough evidence to reject the null hypothesis and conclude that the STA130 students have some ability to distinguish between milk-first and tea-first cups better than random guessing"
   ]
  },
  {
   "cell_type": "markdown",
   "id": "378f8720",
   "metadata": {},
   "source": [
    "---\n",
    "### 9. Have you reviewed the course wiki-textbook and interacted with a ChatBot (or, if that wasn't sufficient, real people in the course piazza discussion board or TA office hours) to help you understand all the material in the tutorial and lecture that you didn't quite follow when you first saw it?\n",
    "Yes."
   ]
  },
  {
   "cell_type": "code",
   "execution_count": null,
   "id": "211ee0dd",
   "metadata": {},
   "outputs": [],
   "source": []
  }
 ],
 "metadata": {
  "kernelspec": {
   "display_name": "Python 3 (ipykernel)",
   "language": "python",
   "name": "python3"
  },
  "language_info": {
   "codemirror_mode": {
    "name": "ipython",
    "version": 3
   },
   "file_extension": ".py",
   "mimetype": "text/x-python",
   "name": "python",
   "nbconvert_exporter": "python",
   "pygments_lexer": "ipython3",
   "version": "3.11.6"
  }
 },
 "nbformat": 4,
 "nbformat_minor": 5
}
